{
  "nbformat": 4,
  "nbformat_minor": 0,
  "metadata": {
    "colab": {
      "name": "4주차 과제 - 제출용",
      "provenance": [],
      "collapsed_sections": [],
      "include_colab_link": true
    },
    "kernelspec": {
      "name": "python3",
      "display_name": "Python 3"
    }
  },
  "cells": [
    {
      "cell_type": "markdown",
      "metadata": {
        "id": "view-in-github",
        "colab_type": "text"
      },
      "source": [
        "<a href=\"https://colab.research.google.com/github/jk42325/jeonggwon/blob/master/4%EC%A3%BC%EC%B0%A8_%EA%B3%BC%EC%A0%9C.ipynb\" target=\"_parent\"><img src=\"https://colab.research.google.com/assets/colab-badge.svg\" alt=\"Open In Colab\"/></a>"
      ]
    },
    {
      "cell_type": "markdown",
      "metadata": {
        "id": "wxkL6PjwsI6L",
        "colab_type": "text"
      },
      "source": [
        "# 4주차 과제\n",
        "- 용어 정리\n",
        "- 딥러닝 강의 클론 코딩\n",
        "- 딥러닝 순전파 & 역전파 계산"
      ]
    },
    {
      "cell_type": "markdown",
      "metadata": {
        "id": "ixEtDe6_uGgI",
        "colab_type": "text"
      },
      "source": [
        "## 1. 용어 정리\n",
        "\n",
        "다음 제시된 단어의 정의(설명)를 정리하여 작성 하세요.\n",
        "\n",
        "* 2문장 이상 작성 해 주세요. \n",
        "* 주제(단어)와 크게 벗어나지만 않는다면 정답처리 됩니다.\n",
        "* 강의 뿐 아니라 기타 레퍼런스를 참고하여 작성하셔도 됩니다. (기타 레퍼런스를 참고하신 경우, 해당 레퍼런스를 정리하여 하단에 작성해 주세요.)\n"
      ]
    },
    {
      "cell_type": "markdown",
      "metadata": {
        "id": "0lfwat8eurKZ",
        "colab_type": "text"
      },
      "source": [
        "__(예시)__\n",
        "### 심층 신경망\n",
        ": 입력층과 출력층 사이에 여러 개의 은닉층들로 이뤄진 인공신경망이다. 심층 신경망은 일반적으로 인공신경망과 마찬가지로 복잡한 비선형 관계들을 모델링 할 수 있다. 신층신경망의 목적은 분류 및 수치예측을 하기 위함이고 이미지 트레이닝이나 문자인식과 같은 분야에서 매우 유용하게 쓰이고 있다."
      ]
    },
    {
      "cell_type": "markdown",
      "metadata": {
        "id": "Y8YJNKG_v65A",
        "colab_type": "text"
      },
      "source": [
        "### MCP 뉴런\n",
        ":1943년 워런 맥컬록과 월터 피츠에 의해 발표된 개념으로 뉴런은 뇌의 신경세포와 연결되어 있으며 뉴런들은 화학적, 전기적 신호를 처리하고 전달을 관여합니다. 이런 신경세포를 이진 출력을 내는 간단한 논리 회로로 표현했다.\n",
        "### 퍼셉트론\n",
        ": 프랭크 로젠 블렛이 1957년 MCP뉴런을 기반으로 발표한 알고리즘이다. 다수의 입력 데이터를 받아 데이터 각각은 서로 다른 가중치를 거쳐 계산을 진행하고 가중치를 거친 데이터의 합을 최종적으로 활성화 함수를 거쳐 최종 출력값을 만들어내는 방식이다. 이 최종 출력값은 사람 뉴런처럼\n",
        "임계치를 넘지 못하면 0 임계 값을 넘으면 1을 출력하게 됩니다\n",
        "\n",
        "### 역전파\n",
        ": 뉴런의 가중치를 효율적으로 조정하기 위하여 거꾸로 전파하는 알고리즘이다. 출력값과 지도 데이터 사이의 생기는 오차를 이용해 출력층에서 입력층 쪽으로 가중치를 경사 하강법으로 조정하며 오차를 감소시킵니다. 그래프의 기울기는 차수에 따라 요동치기 때문에 계산 결과를 통해 기울기가 0에 가까워졌다 해도 그 값이 꼭 최솟값이라는 확신을 해서는 안 됩니다.\n",
        "### 강화학습\n",
        ": 사람이 자전거를 처음 배울 때 많은 시행착오를 겪고 결국 자연스럽게 자전거를 학습 하는 것처럼 기계 역시\n",
        "환경과 에이전트가 상호작용하며 보상이라는 시행착오를 겪어가며 보상을 최대화하는 방향으로 학습 하게 됩니다.\n",
        "주로 시행착오를 겪어 비교적 명확한 보상을 설정할 수 있는 문제를 해결하는데 사용되고 있습니다.\n",
        "\n",
        "### 과적합\n",
        ": 학습이 잘 되어 있어서 학습데이터에 대해서는 높은 정확도를 나타내지만 테스트 데이터나 실제 적용 시에는 성능이 떨어지는 현상을 말한다. 발생 이유는\n",
        "모든 데이터에는 패턴과 노이즈로 이뤄지는데 이때 패턴은\n",
        "학습데이터, 실전데이터에서 반복적으로 나타나지만 노이즈는 반복적으로 나타나지 않아 예측을 할 수가 없습니다.\n",
        "과적합을 줄이기 위해서는 정규화, 속성줄이기등이 있습니다.\n",
        "\n",
        "### 차원의 저주\n",
        ": 데이터의 차원이 늘어날수록 데이터 부피는 증가하지만\n",
        "데이터의 밀도 감소하여 학습률이 떨어지는 현상이다 데이터 간의 유클리디안 거리 측정 알고리즘에서 나타나며 이러한 문제를 해결하기 위해서는 적절한 변수 선택, 차원 축소 기법을 사용되어야 한다.\n"
      ]
    },
    {
      "cell_type": "markdown",
      "metadata": {
        "id": "d-zfFXLCy6jD",
        "colab_type": "text"
      },
      "source": [
        "## 2. 딥러닝 강의 클론 코딩\n",
        "\n",
        "####__퍼셉트론 구조 구현하기__ \n",
        "딥러닝 강의(__딥러닝 원리[1] 3:15 ~ 5:15 부분__)를 보고 코드를 따라 치며 출력 결과를 만드세요.\n",
        " \n",
        "\n",
        "* 하나의 코드셀에 해당 코드를 한번에 다 적어서 실행해주세요 (__그렇게 하지 않을 경우, 아래 이미지와 같은 출력값이 나오지 않을 수 있습니다__)\n",
        "\n",
        "*__주의!__ 실제로 코딩해서 출력해보면 강의에 나온 출력 결과와 다르게 나옵니다!!\n"
      ]
    },
    {
      "cell_type": "code",
      "metadata": {
        "id": "ktjkxf_2uNki",
        "colab_type": "code",
        "colab": {
          "base_uri": "https://localhost:8080/",
          "height": 215
        },
        "outputId": "b465605e-ff63-4c32-b95b-a58fe9ec95d6"
      },
      "source": [
        "import tensorflow as tf\n",
        "tf.compat.v1.set_random_seed (2020)\n",
        "x = 1\n",
        "y = 0\n",
        "w = tf.random.normal ([1],0,1)\n",
        "\n",
        "import math\n",
        "def sigmoid(x) :\n",
        "    return 1/(1 + math.exp(-x))\n",
        "\n",
        "output = sigmoid(x * w)\n",
        "print(output)\n",
        "\n",
        "for i in range (1000) :\n",
        "  output = sigmoid(x*w)\n",
        "  error = y - output\n",
        "  w = w + x * 0.1 * error # 경사하강\n",
        "  if i % 100 == 99:\n",
        "    print('학습 횟수:',i,'Error:',error, '예측 결과:', output)"
      ],
      "execution_count": null,
      "outputs": [
        {
          "output_type": "stream",
          "text": [
            "0.47477188589261\n",
            "학습 횟수: 99 Error: -0.10010598284299604 예측 결과: 0.10010598284299604\n",
            "학습 횟수: 199 Error: -0.05178399422833116 예측 결과: 0.05178399422833116\n",
            "학습 횟수: 299 Error: -0.034590451977903586 예측 결과: 0.034590451977903586\n",
            "학습 횟수: 399 Error: -0.02588962752851373 예측 결과: 0.02588962752851373\n",
            "학습 횟수: 499 Error: -0.020658699939863617 예측 결과: 0.020658699939863617\n",
            "학습 횟수: 599 Error: -0.017174253993457355 예측 결과: 0.017174253993457355\n",
            "학습 횟수: 699 Error: -0.014689506449480992 예측 결과: 0.014689506449480992\n",
            "학습 횟수: 799 Error: -0.012829497265431342 예측 결과: 0.012829497265431342\n",
            "학습 횟수: 899 Error: -0.011385568271837804 예측 결과: 0.011385568271837804\n",
            "학습 횟수: 999 Error: -0.010232493309882492 예측 결과: 0.010232493309882492\n"
          ],
          "name": "stdout"
        }
      ]
    },
    {
      "cell_type": "markdown",
      "metadata": {
        "id": "wcc5mzI9oZ7r",
        "colab_type": "text"
      },
      "source": [
        "![대체 텍스트](https://www.notion.so/image/https%3A%2F%2Fs3-us-west-2.amazonaws.com%2Fsecure.notion-static.com%2F0cceeed0-0235-4b0f-af88-0b8c377d5b4b%2F_2020-06-09__9.35.23.png?table=block&id=88fd8912-9356-49a4-9fda-a1a63fe96ea9&width=2870&cache=v2)"
      ]
    },
    {
      "cell_type": "markdown",
      "metadata": {
        "id": "kr0HVRk8fOom",
        "colab_type": "text"
      },
      "source": [
        "## 3. 딥러닝 순전파 & 역전파 계산\n",
        "\n",
        "딥러닝 강의(__딥러닝 원리[2] 0:55 ~ 4:32 부분__)에 나오는 순전파 & 역전파 계산에 대한 문제 입니다.\n",
        "\n",
        "해당 영상과 다음 이미지를 참고하여 다음 2가지 물음에 답하세요.\n",
        "\n",
        "\n",
        "(1) 학습률이 0.2 일 경우 출력층의 노드값\n",
        "\n",
        "(2) 학습률이 0.1과 0.2 중 기대출력값이 지도데이터 \"3\"과 더 가까운 학습률은?"
      ]
    },
    {
      "cell_type": "markdown",
      "metadata": {
        "id": "CpwPFWhOUzww",
        "colab_type": "text"
      },
      "source": [
        "![대체 텍스트](https://www.notion.so/image/https%3A%2F%2Fs3-us-west-2.amazonaws.com%2Fsecure.notion-static.com%2Ff54dfd45-92ec-44ae-9616-6949d2484a45%2F_2020-06-10__5.22.03.png?table=block&id=ee05da89-3ceb-4ad9-a2d3-c9f68d24d1d9&width=3580&cache=v2)"
      ]
    },
    {
      "cell_type": "markdown",
      "metadata": {
        "id": "B2OVY7w5U3CI",
        "colab_type": "text"
      },
      "source": [
        "## (1) 학습률이 0.2 일 경우 출력층의 노드값 : 2.72\n",
        "## (2) 학습률이 0.1과 0.2 중 기대출력값이 지도데이터 \"3\"과 더 가까운 학습률은? :  0.2"
      ]
    }
  ]
}